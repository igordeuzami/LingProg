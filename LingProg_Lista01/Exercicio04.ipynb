{
 "cells": [
  {
   "cell_type": "markdown",
   "metadata": {},
   "source": [
    "4) Faça um Programa que peça a temperatura em graus Farenheit, transforme e mostre a temperatura em graus Celsius. \n",
    "C = (5 * (F- 32 / 9)."
   ]
  },
  {
   "cell_type": "code",
   "execution_count": 2,
   "metadata": {},
   "outputs": [
    {
     "name": "stdout",
     "output_type": "stream",
     "text": [
      "Digite a temperatura em Farenheit: 78\n",
      "Em Celsius e:  25.555555555555554\n"
     ]
    }
   ],
   "source": [
    "far = input(\"Digite a temperatura em Farenheit: \")\n",
    "\n",
    "f = float(far)\n",
    "\n",
    "c = (5 * ((f - 32)/9))\n",
    "          \n",
    "celsius = float(c)\n",
    "          \n",
    "print(\"Em Celsius e: \", celsius)"
   ]
  }
 ],
 "metadata": {
  "kernelspec": {
   "display_name": "Python 3",
   "language": "python",
   "name": "python3"
  },
  "language_info": {
   "codemirror_mode": {
    "name": "ipython",
    "version": 3
   },
   "file_extension": ".py",
   "mimetype": "text/x-python",
   "name": "python",
   "nbconvert_exporter": "python",
   "pygments_lexer": "ipython3",
   "version": "3.6.5"
  }
 },
 "nbformat": 4,
 "nbformat_minor": 2
}
