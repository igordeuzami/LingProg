{
 "cells": [
  {
   "cell_type": "markdown",
   "metadata": {},
   "source": [
    "8) Faça um Programa que pergunte quanto você ganha por hora e o\n",
    "número de horas trabalhadas no mês. Calcule e mostre o total do\n",
    "seu salário no referido mês, sabendo-se que são descontados 11%\n",
    "para o Imposto de Renda, 8% para o INSS e 5% para o sindicato,\n",
    "faça um programa que nos dê:\n",
    "- salário bruto.\n",
    "- quanto pagou ao INSS.\n",
    "- quanto pagou ao sindicato.\n",
    "- o salário líquido.\n",
    "- calcule os descontos e o salário líquido, conforme a tabela abaixo:\n",
    " + Salário Bruto : R$\n",
    " - IR (11% : R$\n",
    " - INSS (8% : R$\n",
    " - Sindicato ( 5% : R$\n",
    " = Salário Liquido : R$\n",
    "Obs.: Salário Bruto - Descontos = Salário Líquido."
   ]
  },
  {
   "cell_type": "code",
   "execution_count": 3,
   "metadata": {},
   "outputs": [
    {
     "name": "stdout",
     "output_type": "stream",
     "text": [
      "Quanto voce ganha por Hora? 22.5\n",
      "Quantas horas foram trabalhadas? 48\n",
      "Seu Salario Bruto neste mes e: R$ 1080.0\n",
      "Foi descontado de IR neste mes e: R$ 118.8\n",
      "Foi descontado de INSS neste mes e: R$ 86.4\n",
      "Foi descontado de Sindicato neste mes e: R$ 54.0\n",
      "Seu Salario Liquido e: R$ 820.8\n"
     ]
    }
   ],
   "source": [
    "sal = input(\"Quanto voce ganha por Hora? \")\n",
    "hora = input(\"Quantas horas foram trabalhadas? \")\n",
    "s = float(sal)\n",
    "h = float(hora)\n",
    "\n",
    "t = s * h\n",
    "\n",
    "#salario bruto\n",
    "totalB =  float(t)\n",
    "\n",
    "#IR\n",
    "irCalc = totalB * 0.11\n",
    "ir =  float(irCalc)\n",
    "\n",
    "#inss\n",
    "inssCalc = totalB * 0.08\n",
    "inss  = float(inssCalc)\n",
    "\n",
    "#sindicato\n",
    "sindCalc = totalB * 0.05\n",
    "sind = float(sindCalc)\n",
    "\n",
    "#salario liquido\n",
    "slCalc = totalB - (ir + inss + sind)\n",
    "totalL = float(slCalc)\n",
    "\n",
    "print(\"Seu Salario Bruto neste mes e: R$\", totalB)\n",
    "print(\"Foi descontado de IR neste mes e: R$\", ir)\n",
    "print(\"Foi descontado de INSS neste mes e: R$\", inss)\n",
    "print(\"Foi descontado de Sindicato neste mes e: R$\", sind)\n",
    "print(\"Seu Salario Liquido e: R$\", totalL)"
   ]
  }
 ],
 "metadata": {
  "kernelspec": {
   "display_name": "Python 3",
   "language": "python",
   "name": "python3"
  },
  "language_info": {
   "codemirror_mode": {
    "name": "ipython",
    "version": 3
   },
   "file_extension": ".py",
   "mimetype": "text/x-python",
   "name": "python",
   "nbconvert_exporter": "python",
   "pygments_lexer": "ipython3",
   "version": "3.6.5"
  }
 },
 "nbformat": 4,
 "nbformat_minor": 2
}
