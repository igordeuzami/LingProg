{
 "cells": [
  {
   "cell_type": "markdown",
   "metadata": {},
   "source": [
    " 5 )Faça um Programa que peça a temperatura em graus Celsius,\n",
    "transforme e mostre em graus Farenheit.\n",
    "F = C × 1, 8 + 32"
   ]
  },
  {
   "cell_type": "code",
   "execution_count": 3,
   "metadata": {},
   "outputs": [
    {
     "name": "stdout",
     "output_type": "stream",
     "text": [
      "Digite a temperatur em Celcius: 30\n",
      "O resultado em Farenheit:  86.0\n"
     ]
    }
   ],
   "source": [
    "celsius = input(\"Digite a temperatur em Celcius: \")\n",
    "\n",
    "c = float(celsius)\n",
    "\n",
    "f = c * 1.8 + 32\n",
    "\n",
    "far = float(f)\n",
    "\n",
    "print(\"O resultado em Farenheit: \", far)"
   ]
  }
 ],
 "metadata": {
  "kernelspec": {
   "display_name": "Python 3",
   "language": "python",
   "name": "python3"
  },
  "language_info": {
   "codemirror_mode": {
    "name": "ipython",
    "version": 3
   },
   "file_extension": ".py",
   "mimetype": "text/x-python",
   "name": "python",
   "nbconvert_exporter": "python",
   "pygments_lexer": "ipython3",
   "version": "3.6.5"
  }
 },
 "nbformat": 4,
 "nbformat_minor": 2
}
