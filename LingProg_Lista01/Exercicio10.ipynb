{
 "cells": [
  {
   "cell_type": "markdown",
   "metadata": {},
   "source": [
    "10) Faça um programa que permita ao usuário digitar o seu nome e em seguida mostre o nome do usuário de trás para frente utilizando somente letras maiúsculas. Dica: lembre−se que ao informar o\n",
    "nome o usuário pode digitar letras maiúsculas ou minúsculas.\n",
    "Observação: não use loops."
   ]
  },
  {
   "cell_type": "code",
   "execution_count": 1,
   "metadata": {},
   "outputs": [
    {
     "name": "stdout",
     "output_type": "stream",
     "text": [
      "Digite o seu nome: Igor Deuzami Moreira\n",
      "ARIEROM IMAZUED ROGI\n"
     ]
    }
   ],
   "source": [
    "str1 = input(\"Digite o seu nome: \")\n",
    "\n",
    "strInverso = str1[::-1]\n",
    "\n",
    "print(strInverso.upper())"
   ]
  }
 ],
 "metadata": {
  "kernelspec": {
   "display_name": "Python 3",
   "language": "python",
   "name": "python3"
  },
  "language_info": {
   "codemirror_mode": {
    "name": "ipython",
    "version": 3
   },
   "file_extension": ".py",
   "mimetype": "text/x-python",
   "name": "python",
   "nbconvert_exporter": "python",
   "pygments_lexer": "ipython3",
   "version": "3.6.5"
  }
 },
 "nbformat": 4,
 "nbformat_minor": 2
}
