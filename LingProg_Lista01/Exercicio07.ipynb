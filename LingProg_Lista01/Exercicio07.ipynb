{
 "cells": [
  {
   "cell_type": "markdown",
   "metadata": {},
   "source": [
    "7) João Papo-de-Pescador, homem de bem, comprou um microcomputador para controlar o rendimento diário de seu\n",
    "trabalho. Toda vez que ele traz um peso de peixes maior que o estabelecido pelo regulamento de pesca do estado de São Paulo \n",
    "(50 quilos deve pagar uma multa de R$ 4,00 por quilo excedente. João precisa que você faça um programa que leia a variável peso (peso de peixes e verifque se há excesso. Se houver, gravar na variável\n",
    "excesso e na variável multa o valor da multa que João deverá pagar.\n",
    "Caso contrário mostrar tais variáveis com o conteúdo ZERO."
   ]
  },
  {
   "cell_type": "code",
   "execution_count": 7,
   "metadata": {},
   "outputs": [
    {
     "name": "stdout",
     "output_type": "stream",
     "text": [
      "Informe o resltado do pesamento em kg: 50.1\n",
      "De 50.1 kg,foram exceditos 0.10000000000000142 kg, multa gerada de: R$ 0.4000000000000057\n"
     ]
    }
   ],
   "source": [
    "kgs = input(\"Informe o resltado do pesamento em kg: \")\n",
    "kg = float(kgs)\n",
    "\n",
    "if (kg > 50.0):\n",
    "    x = kg - 50\n",
    "    exc = float(x)\n",
    "    m = exc * 4.00\n",
    "    multa = float(m)\n",
    "    print(\"De\", kg, \"kg,foram exceditos\", exc, \"kg, multa gerada de: R$\", multa)\n",
    "    \n",
    "else:\n",
    "    print(\"Parabens, tudo conforme o regulamento de pesca!\")\n",
    "    \n",
    "    "
   ]
  }
 ],
 "metadata": {
  "kernelspec": {
   "display_name": "Python 3",
   "language": "python",
   "name": "python3"
  },
  "language_info": {
   "codemirror_mode": {
    "name": "ipython",
    "version": 3
   },
   "file_extension": ".py",
   "mimetype": "text/x-python",
   "name": "python",
   "nbconvert_exporter": "python",
   "pygments_lexer": "ipython3",
   "version": "3.6.5"
  }
 },
 "nbformat": 4,
 "nbformat_minor": 2
}
