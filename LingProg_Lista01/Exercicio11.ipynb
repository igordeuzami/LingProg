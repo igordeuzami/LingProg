{
 "cells": [
  {
   "cell_type": "markdown",
   "metadata": {},
   "source": [
    "11) Faça um programa que solicite a data de nascimento\n",
    "(dd/mm/aaaa) do usuário e imprima a data com o nome do mês por extenso.\n",
    "Data de Nascimento: 29/10/1973\n",
    "Você nasceu em 29 de Outubro de 1973.\n",
    "Obs.: Não use desvio condicional nem loops."
   ]
  },
  {
   "cell_type": "code",
   "execution_count": 20,
   "metadata": {},
   "outputs": [
    {
     "name": "stdout",
     "output_type": "stream",
     "text": [
      "Digite sua data de Nascimento: 25/07/1996\n",
      "Você nasceu em 25 de Jul de 1996\n"
     ]
    }
   ],
   "source": [
    "from datetime import datetime\n",
    "\n",
    "str1 = input(\"Digite sua data de Nascimento: \")\n",
    "\n",
    "dia = str1[:2]\n",
    "mes = str1[3] + str1[4]\n",
    "ano = str1[8:]\n",
    "\n",
    "strDate = mes + \"/\" + dia + \"/\" + ano\n",
    "\n",
    "objDate = datetime.strptime(strDate, '%m/%d/%y')\n",
    "objDateConvert = datetime.strftime(objDate,'%d de %b de %Y')\n",
    "\n",
    "print(\"Você nasceu em\", objDateConvert)\n"
   ]
  }
 ],
 "metadata": {
  "kernelspec": {
   "display_name": "Python 3",
   "language": "python",
   "name": "python3"
  },
  "language_info": {
   "codemirror_mode": {
    "name": "ipython",
    "version": 3
   },
   "file_extension": ".py",
   "mimetype": "text/x-python",
   "name": "python",
   "nbconvert_exporter": "python",
   "pygments_lexer": "ipython3",
   "version": "3.6.5"
  }
 },
 "nbformat": 4,
 "nbformat_minor": 2
}
