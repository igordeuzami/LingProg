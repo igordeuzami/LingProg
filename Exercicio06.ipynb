{
 "cells": [
  {
   "cell_type": "markdown",
   "metadata": {},
   "source": [
    "6) Faça um Programa que peça 2 números inteiros e um número real. Calcule e mostre:\n",
    "- o produto do dobro do primeiro com metade do segundo .\n",
    "- a soma do triplo do primeiro com o terceiro.\n",
    "- o terceiro elevado ao cubo"
   ]
  },
  {
   "cell_type": "code",
   "execution_count": 8,
   "metadata": {},
   "outputs": [
    {
     "name": "stdout",
     "output_type": "stream",
     "text": [
      "Digite o primeiro numero inteiro: 4\n",
      "Digite o segundo numero inteiro: 6\n",
      "Digite o terceiro numero real: 2.5\n",
      "O produto do dobro do primeiro com metade do segundo e: 24.0\n",
      "A soma do triplo do primeiro com o terceiro: 19.5\n",
      "O terceiro elevado ao cubo: 15.625\n"
     ]
    }
   ],
   "source": [
    "x = input(\"Digite o primeiro numero inteiro: \")\n",
    "y = input(\"Digite o segundo numero inteiro: \")\n",
    "zf = input(\"Digite o terceiro numero real: \")\n",
    "z = float(zf)\n",
    "\n",
    "#1\n",
    "my = float(y)\n",
    "xf = float(x)\n",
    "p = (xf*2) * (my/2)\n",
    "produto = float(p)\n",
    "\n",
    "#2\n",
    "xf = float(x)\n",
    "s = (xf + z) * 3\n",
    "soma = float(s)\n",
    "\n",
    "#3\n",
    "c = z ** 3\n",
    "cubo = float(c)\n",
    "\n",
    "print(\"O produto do dobro do primeiro com metade do segundo e:\", produto)\n",
    "print(\"A soma do triplo do primeiro com o terceiro:\", soma)\n",
    "print(\"O terceiro elevado ao cubo:\", cubo)\n"
   ]
  }
 ],
 "metadata": {
  "kernelspec": {
   "display_name": "Python 3",
   "language": "python",
   "name": "python3"
  },
  "language_info": {
   "codemirror_mode": {
    "name": "ipython",
    "version": 3
   },
   "file_extension": ".py",
   "mimetype": "text/x-python",
   "name": "python",
   "nbconvert_exporter": "python",
   "pygments_lexer": "ipython3",
   "version": "3.6.5"
  }
 },
 "nbformat": 4,
 "nbformat_minor": 2
}
