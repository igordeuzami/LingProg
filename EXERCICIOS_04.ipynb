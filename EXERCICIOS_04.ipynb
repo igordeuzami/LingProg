{
 "cells": [
  {
   "cell_type": "markdown",
   "metadata": {},
   "source": [
    "1) Menor de dois pares: Escreva uma função que retorne o menor de dois números dados se ambos os números forem pares, mas retorna o maior se um dos dois for ímpar. Exemplo:\n",
    "    menor_de_dois_pares(2,4) --> 2\n",
    "    menor_de_dois_pares (2,5) --> 5"
   ]
  },
  {
   "cell_type": "code",
   "execution_count": 17,
   "metadata": {},
   "outputs": [
    {
     "name": "stdout",
     "output_type": "stream",
     "text": [
      "2\n",
      "5\n"
     ]
    }
   ],
   "source": [
    "def menor_de_dois_pares(a, b):\n",
    "    if a%2 == 0 and b%2 == 0:\n",
    "        if a < b:\n",
    "            return a\n",
    "        else:\n",
    "            return b\n",
    "    else:\n",
    "        if a > b:\n",
    "            return a\n",
    "        else:\n",
    "            return b\n",
    "        \n",
    "print(menor_de_dois_pares(2,4))\n",
    "print(menor_de_dois_pares(2,5))"
   ]
  },
  {
   "cell_type": "markdown",
   "metadata": {},
   "source": [
    "3) Mestre Yoda: Dada uma sentença, a função deve retornar a sentença com as palavras na ordem reversa. Exemplo:\n",
    "    mestre_yoda('Eu estou em casa') --> 'casa em estou Eu'\n",
    "    mestre_yoda('Estamos prontos') --> 'prontos Estamos'\n"
   ]
  },
  {
   "cell_type": "code",
   "execution_count": 1,
   "metadata": {},
   "outputs": [
    {
     "name": "stdout",
     "output_type": "stream",
     "text": [
      "  casa em estou Eu\n",
      "  pronto Estamos\n"
     ]
    }
   ],
   "source": [
    "def mestre_yoda(frase):\n",
    "    fraseSep = frase.split(\" \")\n",
    "    i = int(len(fraseSep)) - 1\n",
    "    fraseYoda = \" \"\n",
    "    while i >= 0:\n",
    "        fraseYoda = fraseYoda + \" \" + fraseSep[i]\n",
    "        i = i - 1\n",
    "    return fraseYoda\n",
    "\n",
    "print(mestre_yoda(\"Eu estou em casa\"))\n",
    "print(mestre_yoda(\"Estamos pronto\"))"
   ]
  },
  {
   "cell_type": "markdown",
   "metadata": {},
   "source": [
    "6) Espião: Escreva uma função que receba uma lista de inteiros e retorne True se contém um 007 em ordem, mesmo que não contínuo. Exemplo:\n",
    "    espiao([1,2,4,0,0,7,5]) --> True\n",
    "    espiao([1,0,2,4,0,5,7]) --> True\n",
    "    espiao([1,7,2,4,0,5,0]) --> False"
   ]
  },
  {
   "cell_type": "code",
   "execution_count": 16,
   "metadata": {},
   "outputs": [
    {
     "name": "stdout",
     "output_type": "stream",
     "text": [
      "True\n",
      "True\n",
      "False\n"
     ]
    }
   ],
   "source": [
    "def espiao(lista):\n",
    "    tam = int(len(lista)) - 1\n",
    "    i = 0\n",
    "    ctrl0 = 0\n",
    "    ctrl7 = 0\n",
    "    while i <= tam:\n",
    "        if lista[i] == 0:\n",
    "            ctrl0 = ctrl0 + 1\n",
    "            if ctrl0 > 2:\n",
    "                ctrl0 = ctrl0 - 1\n",
    "            elif ctrl7 == 1:\n",
    "                return False\n",
    "        if lista[i] == 7:\n",
    "            ctrl7 = ctrl7 + 1\n",
    "            if ctrl7 > 1:\n",
    "                ctrl7 = ctrl7 - 1\n",
    "            elif ctrl0 < 2 :\n",
    "                return False\n",
    "        i = i + 1\n",
    "        \n",
    "    if ctrl7 == 1 and ctrl0 == 2:\n",
    "        return True\n",
    "\n",
    "print(espiao([1,2,4,0,0,7,5]))\n",
    "print(espiao([1,0,2,4,0,5,7]))\n",
    "print(espiao([1,7,2,4,0,5,0]))\n"
   ]
  },
  {
   "cell_type": "code",
   "execution_count": null,
   "metadata": {},
   "outputs": [],
   "source": []
  }
 ],
 "metadata": {
  "kernelspec": {
   "display_name": "Python 3",
   "language": "python",
   "name": "python3"
  },
  "language_info": {
   "codemirror_mode": {
    "name": "ipython",
    "version": 3
   },
   "file_extension": ".py",
   "mimetype": "text/x-python",
   "name": "python",
   "nbconvert_exporter": "python",
   "pygments_lexer": "ipython3",
   "version": "3.6.5"
  }
 },
 "nbformat": 4,
 "nbformat_minor": 2
}
