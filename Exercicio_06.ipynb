{
 "cells": [
  {
   "cell_type": "markdown",
   "metadata": {},
   "source": [
    "1) Defina a função somannat que recebe como argumento um número natural n  e devolve a soma de todos os números naturais   até n. Ex: somannat(5) = 15"
   ]
  },
  {
   "cell_type": "code",
   "execution_count": 5,
   "metadata": {},
   "outputs": [
    {
     "name": "stdout",
     "output_type": "stream",
     "text": [
      "3\n",
      "1\n",
      "15\n"
     ]
    }
   ],
   "source": [
    "def soma_nat(n):\n",
    "    return 1 if n == 1 else n + soma_nat(n-1)\n",
    "\n",
    "print(soma_nat(2))\n",
    "print(soma_nat(1))\n",
    "print(soma_nat(5))"
   ]
  },
  {
   "cell_type": "markdown",
   "metadata": {},
   "source": [
    "2) Defina a função div que recebe como argumentos dois números naturais m  e n e devolve o resultado da divisão inteira de m por n. Neste exercício você não pode recorrer às operações aritmétcas de multplicação, divisão e resto da divisão inteira. Ex: div(7,2) = 3"
   ]
  },
  {
   "cell_type": "code",
   "execution_count": 5,
   "metadata": {},
   "outputs": [
    {
     "name": "stdout",
     "output_type": "stream",
     "text": [
      "2\n",
      "0\n"
     ]
    }
   ],
   "source": [
    "def div(dividendo, divisor):\n",
    "    return 0 if dividendo < divisor else 1 + div(dividendo - divisor, divisor) \n",
    "\n",
    "print(div(5,2))\n",
    "print(div(2,3))"
   ]
  },
  {
   "cell_type": "markdown",
   "metadata": {},
   "source": [
    "3) Defna a função prim_alg que recebe como argumento um número natural e devolve o primeiro algarismo (o mais signifcatvo) na representação decimal de n.\n",
    "    Ex: prim_alg(5649) = 5\n",
    "    Ex: prim_alg(7) = 7"
   ]
  },
  {
   "cell_type": "code",
   "execution_count": 3,
   "metadata": {},
   "outputs": [
    {
     "name": "stdout",
     "output_type": "stream",
     "text": [
      "5\n",
      "7\n"
     ]
    }
   ],
   "source": [
    "def prim_alg(num):\n",
    "    return int(num) if len(str(num)) == 1 else prim_alg(str(num)[:-1])\n",
    "\n",
    "print(prim_alg(5649))\n",
    "print(prim_alg(7))"
   ]
  },
  {
   "cell_type": "markdown",
   "metadata": {},
   "source": [
    "4) Defina a função prod_lista que recebe como argumento uma lista de inteiros e devolve o produto dos seus elementos.\n",
    "    Ex: prodnlista([1,2,3,4,5,6]) = 720"
   ]
  },
  {
   "cell_type": "code",
   "execution_count": 5,
   "metadata": {},
   "outputs": [
    {
     "name": "stdout",
     "output_type": "stream",
     "text": [
      "720\n"
     ]
    }
   ],
   "source": [
    "def prod_lista(lista):\n",
    "    if len(lista) == 1:\n",
    "        return lista[0]\n",
    "    else:\n",
    "        return lista[0] * prod_lista(lista[1:])\n",
    "\n",
    "print(prod_lista([1,2,3,4,5,6]))"
   ]
  },
  {
   "cell_type": "markdown",
   "metadata": {},
   "source": [
    "5) Defina a função contem_parQ que recebe como argumento uma lista de números inteiros w e devolve True se w contém um número par e False em caso contrário.\n",
    "    Ex: contem_parQ([2,3,1,2,3,4]) = True\n",
    "    Ex: contem_parQ([1,3,5,7]) = False\n"
   ]
  },
  {
   "cell_type": "code",
   "execution_count": 17,
   "metadata": {},
   "outputs": [
    {
     "name": "stdout",
     "output_type": "stream",
     "text": [
      "True\n",
      "False\n",
      "True\n"
     ]
    }
   ],
   "source": [
    "def contem_parQ(lista):\n",
    "    response = False if len(lista) == 0 or (lista[len(lista) - 1] % 2 != 0 and not contem_parQ(lista[:-1])) else True\n",
    "    return response\n",
    "\n",
    "    \n",
    "print(contem_parQ([2,3,1,2,3,4]))\n",
    "print(contem_parQ([1,3,5,7]))\n",
    "print(contem_parQ([10,3,5,7]))"
   ]
  },
  {
   "cell_type": "markdown",
   "metadata": {},
   "source": [
    "6) Defna a função todos_imparesQ que recebe como argumento uma lista de números inteiros w e devolve True se w contém apenas números ímpares e False em caso contrário.\n",
    "    Ex: todos_imparesQ([1,3,5,7]) = True\n",
    "    Ex: todos_imparesQ([]) = True\n",
    "    Ex: todos_imparesQ([1,2,3,4,5]) = False\n"
   ]
  },
  {
   "cell_type": "code",
   "execution_count": 14,
   "metadata": {},
   "outputs": [
    {
     "name": "stdout",
     "output_type": "stream",
     "text": [
      "True\n",
      "False\n"
     ]
    }
   ],
   "source": [
    "def todos_imparesQ(lista):\n",
    "    response = False\n",
    "    if len(lista) == 0 or (lista[len(lista) - 1] % 2 != 0 and todos_imparesQ(lista[:-1])):\n",
    "        response = True\n",
    "    return response\n",
    "\n",
    "print(todos_imparesQ([1,3,5,7]))\n",
    "print(todos_imparesQ([1,2,3,4,5]))\n"
   ]
  },
  {
   "cell_type": "markdown",
   "metadata": {},
   "source": [
    "7) Defina a função pertenceQ que recebe como argumentos uma lista de números inteiros w e um número inteiro n e devolve True se n ocorre em w e False em caso contrário.\n",
    "    Ex: pertenceQ([1,2,3],1) = True\n",
    "    Ex: pertenceQ([1,2,3],2) = True\n",
    "    Ex: pertenceQ([1,2,3],3) = True\n",
    "    Ex: pertenceQ([1,2,3],4) = False\n"
   ]
  },
  {
   "cell_type": "code",
   "execution_count": 4,
   "metadata": {},
   "outputs": [
    {
     "name": "stdout",
     "output_type": "stream",
     "text": [
      "True\n",
      "True\n",
      "True\n",
      "False\n"
     ]
    }
   ],
   "source": [
    "def pertenceQ(w,n):\n",
    "    return True if len(w) > 0 and (w[len(w)-1]== n or pertenceQ(w[:-1],n)) else False\n",
    "    \n",
    "print(pertenceQ([1,2,3],1))\n",
    "print(pertenceQ([1,2,3],2))\n",
    "print(pertenceQ([1,2,3],3))\n",
    "print(pertenceQ([1,2,3],4))"
   ]
  },
  {
   "cell_type": "markdown",
   "metadata": {},
   "source": [
    "8) Defina a função junta que recebe como argumentos duas listas de números inteiros w1 e w2 e devolve a concatenação de w1 com w2 .\n",
    "    Ex: junta([1,2,3],[4,5,6]) = [1, 2, 3, 4, 5, 6]\n",
    "    Ex: junta([],[4,5,6]) = [4, 5, 6]\n",
    "    Ex: junta([1,2,3],[]) = [1, 2, 3]\n"
   ]
  },
  {
   "cell_type": "code",
   "execution_count": 6,
   "metadata": {},
   "outputs": [
    {
     "name": "stdout",
     "output_type": "stream",
     "text": [
      "[1, 2, 3, 4, 5, 6]\n",
      "[4, 5, 6]\n",
      "[1, 2, 3]\n"
     ]
    }
   ],
   "source": [
    "def junta(w1,w2):\n",
    "    return w1+w2\n",
    "\n",
    "print(junta([1,2,3],[4,5,6]))\n",
    "print(junta([],[4,5,6]))\n",
    "print(junta([1,2,3],[]))"
   ]
  },
  {
   "cell_type": "markdown",
   "metadata": {},
   "source": [
    "9) Defina a função temPrimoQ que recebe como argumento uma lista de listas de números inteiros w e devolve True se alguma das sublistas w tem um número primo e False em caso contrário.\n",
    "    Ex: temPrimoQ([[4,4,4,4],[5,4,6,7],[2,4,3]]) = True\n",
    "    Ex: temPrimoQ([[4,4,4,4],[4,4,4],[],[4]]) = False\n"
   ]
  },
  {
   "cell_type": "markdown",
   "metadata": {},
   "source": [
    "10) Defina a função inverteLista que recebe como argumento uma lista w e devolve a mesma lista mas invertda.\n",
    "    Ex: inverteLista([1,2,3,4,5]) = [5, 4, 3, 2, 1]\n",
    "    Ex: inverteLista([])"
   ]
  },
  {
   "cell_type": "code",
   "execution_count": null,
   "metadata": {},
   "outputs": [],
   "source": [
    "def inverteLista(lista):\n",
    "    if len(lista) == 0:\n",
    "        return inverteLista\n",
    "    else:\n",
    "        listaInvertida += [lista[-1]]\n",
    "        return inverteLista + inverteLista(lista[:-1])\n",
    "\n",
    "\n",
    "print(inverteLista([1,2,3,4,5]))"
   ]
  },
  {
   "cell_type": "markdown",
   "metadata": {},
   "source": [
    " [5, 4, 3, 2, 1] "
   ]
  }
 ],
 "metadata": {
  "kernelspec": {
   "display_name": "Python 3",
   "language": "python",
   "name": "python3"
  },
  "language_info": {
   "codemirror_mode": {
    "name": "ipython",
    "version": 3
   },
   "file_extension": ".py",
   "mimetype": "text/x-python",
   "name": "python",
   "nbconvert_exporter": "python",
   "pygments_lexer": "ipython3",
   "version": "3.6.5"
  }
 },
 "nbformat": 4,
 "nbformat_minor": 2
}
