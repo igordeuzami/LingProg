{
 "cells": [
  {
   "cell_type": "markdown",
   "metadata": {},
   "source": [
    "2) Faça um Programa que calcule a área de um quadrado, em seguida mostre o dobro desta área para o usuário."
   ]
  },
  {
   "cell_type": "code",
   "execution_count": 2,
   "metadata": {},
   "outputs": [
    {
     "name": "stdout",
     "output_type": "stream",
     "text": [
      "Digite um dos lados do quadrado:5\n",
      "A area do quadrado e: 25.0\n",
      "O dobro da area do quadrado e: 50.0\n"
     ]
    }
   ],
   "source": [
    "x = input(\"Digite um dos lados do quadrado:\")\n",
    "\n",
    "a = float(x)\n",
    "\n",
    "area = a * a\n",
    "\n",
    "print(\"A area do quadrado e:\", area)\n",
    "print(\"O dobro da area do quadrado e:\", area * 2)"
   ]
  }
 ],
 "metadata": {
  "kernelspec": {
   "display_name": "Python 3",
   "language": "python",
   "name": "python3"
  },
  "language_info": {
   "codemirror_mode": {
    "name": "ipython",
    "version": 3
   },
   "file_extension": ".py",
   "mimetype": "text/x-python",
   "name": "python",
   "nbconvert_exporter": "python",
   "pygments_lexer": "ipython3",
   "version": "3.6.5"
  }
 },
 "nbformat": 4,
 "nbformat_minor": 2
}
