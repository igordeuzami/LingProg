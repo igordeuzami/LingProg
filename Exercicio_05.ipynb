{
 "cells": [
  {
   "cell_type": "markdown",
   "metadata": {},
   "source": [
    "1. Linha: Crie a classe Linha que tem dois atributos, coordenada1 e coordenada2. Cada coordenada é uma tupla que carrega duas coordenadas cartesianas (x,y) que denotam pontos do segmento de reta. Faça métodos que calculem o comprimento do segmento de reta e sua inclinação."
   ]
  },
  {
   "cell_type": "markdown",
   "metadata": {},
   "source": [
    "3. Jogo de Blackjack: Faça um joguinho simples em Python. \n",
    "    Aqui estão os requisitos:\n",
    "    - Você precisa criar um jogo de BlackJack (21) baseado em texto simples\n",
    "    - O jogo precisa ter um jogador contra um croupier automatzado.\n",
    "    - O jogador pode desistr ou bater.\n",
    "    - O jogador deve ser capaz de escolher o seu valor de aposta.\n",
    "    - Você precisa acompanhar o dinheiro total do jogador.\n",
    "    - Você precisa alertar o jogador de vitórias, derrotas ou estouros, etc ...\n"
   ]
  },
  {
   "cell_type": "code",
   "execution_count": 25,
   "metadata": {},
   "outputs": [
    {
     "name": "stdout",
     "output_type": "stream",
     "text": [
      "Digite o valor da sua aposta: 70\n",
      "1 - Bater \n",
      "2 - Saldo \n",
      "0 - Sair\n",
      "1\n",
      "Opção escolhida no menu: 1\n",
      "Faça uma aposta: 5\n",
      "Numero da aposta: 5\n",
      "Acumulado no blackjack: 5\n",
      "1 - Bater \n",
      "2 - Saldo \n",
      "0 - Sair\n",
      "1\n",
      "Opção escolhida no menu: 1\n",
      "Faça uma aposta: 10\n",
      "Numero da aposta: 10\n",
      "Acumulado no blackjack: 15\n",
      "1 - Bater \n",
      "2 - Saldo \n",
      "0 - Sair\n",
      "1\n",
      "Opção escolhida no menu: 1\n",
      "Faça uma aposta: 6\n",
      "Numero da aposta: 6\n",
      "Acumulado no blackjack: 21\n",
      "Vitoria!!! +50 bonus :-)\n",
      "1 - Bater \n",
      "2 - Saldo \n",
      "0 - Sair\n",
      "2\n",
      "Opção escolhida no menu: 2\n",
      "Seu saldo é: 50\n",
      "1 - Bater \n",
      "2 - Saldo \n",
      "0 - Sair\n",
      "0\n"
     ]
    },
    {
     "data": {
      "text/plain": [
       "'O seu saldo final é de: 120! Voce ganhou: 50'"
      ]
     },
     "execution_count": 25,
     "metadata": {},
     "output_type": "execute_result"
    }
   ],
   "source": [
    "def blackjack():\n",
    "    aposta = int(input(\"Digite o valor da sua aposta: \"))\n",
    "    menu = \"1 - Bater \\n2 - Saldo \\n0 - Sair\\n\"\n",
    "    op = int(input(menu))\n",
    "    soma = 0\n",
    "    saldo = 0\n",
    "    while op != 0:\n",
    "        print(\"Opção escolhida no menu:\", op)\n",
    "        if op == 1:\n",
    "            x = int(input(\"Faça uma aposta: \"))\n",
    "            if x == 0 or x > 14:\n",
    "                print(\"Opção invalida, digite um numero entre 1 e 13\")\n",
    "            else:\n",
    "                soma = soma + x\n",
    "                print(\"Numero da aposta:\", x)\n",
    "                print(\"Acumulado no blackjack:\", soma)\n",
    "                if soma > 21:\n",
    "                    print(\"Perde!!! -50 bonus :-(\")\n",
    "                    saldo = saldo - 50\n",
    "                    soma = 0\n",
    "                elif soma == 21:\n",
    "                    print(\"Vitoria!!! +50 bonus :-)\")\n",
    "                    saldo = saldo + 50\n",
    "                    soma = 0\n",
    "        elif op == 2:\n",
    "            print(\"Seu saldo é:\", saldo)\n",
    "        else:\n",
    "            print(\"Operador invalido! Tente novamente\")\n",
    "        op = int(input(menu))\n",
    "\n",
    "    total = str(aposta + saldo)\n",
    "    saldof = str(saldo)\n",
    "    msg_return = str(\"O seu saldo final é de: \" + total + \"! Voce ganhou: \" + saldof)\n",
    "    return msg_return\n",
    "\n",
    "blackjack() "
   ]
  },
  {
   "cell_type": "code",
   "execution_count": null,
   "metadata": {},
   "outputs": [],
   "source": []
  }
 ],
 "metadata": {
  "kernelspec": {
   "display_name": "Python 3",
   "language": "python",
   "name": "python3"
  },
  "language_info": {
   "codemirror_mode": {
    "name": "ipython",
    "version": 3
   },
   "file_extension": ".py",
   "mimetype": "text/x-python",
   "name": "python",
   "nbconvert_exporter": "python",
   "pygments_lexer": "ipython3",
   "version": "3.6.5"
  }
 },
 "nbformat": 4,
 "nbformat_minor": 2
}
