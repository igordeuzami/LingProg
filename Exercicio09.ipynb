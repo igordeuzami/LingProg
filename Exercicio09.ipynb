{
 "cells": [
  {
   "cell_type": "markdown",
   "metadata": {},
   "source": [
    "9) Faça um programa que leia 2 strings e informe o conteúdo delas seguido do seu comprimento. Informe também se as duas strings\n",
    "possuem o mesmo comprimento e são iguais ou diferentes no conteúdo.\n",
    "Exemplo:\n",
    "String 1: Brasil Hexa 2018\n",
    "String 2: Brasil! Hexa 2018!\n",
    "Tamanho de \"Brasil Hexa 2018\": 16 caracteres\n",
    "Tamanho de \"Brasil! Hexa 2018!\": 18 caracteres\n",
    "As duas strings são de tamanhos diferentes.\n",
    "As duas strings possuem conteúdo diferente."
   ]
  },
  {
   "cell_type": "code",
   "execution_count": 9,
   "metadata": {},
   "outputs": [
    {
     "name": "stdout",
     "output_type": "stream",
     "text": [
      "Digite a primeira frase: teste 02\n",
      "Digite a segunda frase: teste 01\n",
      "O tamanho de  teste 02 : 8 caracteres\n",
      "O tamanho de  teste 01 : 8 caracteres\n",
      "As duas strings são de tamanhos e conteudos DIFERENTES\n"
     ]
    }
   ],
   "source": [
    "str1 = input(\"Digite a primeira frase: \")\n",
    "str2 = input(\"Digite a segunda frase: \")\n",
    "\n",
    "tstr1 = len(str1)\n",
    "tstr2 = len(str2)\n",
    "\n",
    "print(\"O tamanho de \", str1, \":\", tstr1, \"caracteres\")\n",
    "print(\"O tamanho de \", str2, \":\", tstr2, \"caracteres\")\n",
    "\n",
    "if (str1 == str2):\n",
    "    print(\"As duas strings são de tamanhos e conteudos IGUAIS\")\n",
    "else:\n",
    "   print(\"As duas strings são de tamanhos e conteudos DIFERENTES\")"
   ]
  }
 ],
 "metadata": {
  "kernelspec": {
   "display_name": "Python 3",
   "language": "python",
   "name": "python3"
  },
  "language_info": {
   "codemirror_mode": {
    "name": "ipython",
    "version": 3
   },
   "file_extension": ".py",
   "mimetype": "text/x-python",
   "name": "python",
   "nbconvert_exporter": "python",
   "pygments_lexer": "ipython3",
   "version": "3.6.5"
  }
 },
 "nbformat": 4,
 "nbformat_minor": 2
}
