{
 "cells": [
  {
   "cell_type": "markdown",
   "metadata": {},
   "source": [
    "3) Faça um Programa que pergunte quanto você ganha por hora e o número de horas trabalhadas no mês. Calcule e mostre o total do \n",
    "seu salário no referido mês."
   ]
  },
  {
   "cell_type": "code",
   "execution_count": 8,
   "metadata": {
    "scrolled": true
   },
   "outputs": [
    {
     "name": "stdout",
     "output_type": "stream",
     "text": [
      "Quanto voce ganha por Hora? 6.15\n",
      "Quantas horas foram trabalhadas? 3\n",
      "Seu salario neste mes e: 18.450000000000003\n"
     ]
    }
   ],
   "source": [
    "sal = input(\"Quanto voce ganha por Hora? \")\n",
    "hora = input(\"Quantas horas foram trabalhadas? \")\n",
    "\n",
    "s = float(sal)\n",
    "h = float(hora)\n",
    "\n",
    "t = s * h\n",
    "\n",
    "total =  float(t)\n",
    "\n",
    "print(\"Seu salario neste mes e:\", total)"
   ]
  },
  {
   "cell_type": "code",
   "execution_count": null,
   "metadata": {},
   "outputs": [],
   "source": []
  }
 ],
 "metadata": {
  "kernelspec": {
   "display_name": "Python 3",
   "language": "python",
   "name": "python3"
  },
  "language_info": {
   "codemirror_mode": {
    "name": "ipython",
    "version": 3
   },
   "file_extension": ".py",
   "mimetype": "text/x-python",
   "name": "python",
   "nbconvert_exporter": "python",
   "pygments_lexer": "ipython3",
   "version": "3.6.5"
  }
 },
 "nbformat": 4,
 "nbformat_minor": 2
}
