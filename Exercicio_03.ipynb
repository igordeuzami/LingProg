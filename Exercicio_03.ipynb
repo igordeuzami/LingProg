{
 "cells": [
  {
   "cell_type": "markdown",
   "metadata": {},
   "source": [
    "##### 1. Faça um Programa que peça dois números e imprima o maior\n",
    "deles."
   ]
  },
  {
   "cell_type": "code",
   "execution_count": 72,
   "metadata": {},
   "outputs": [
    {
     "name": "stdout",
     "output_type": "stream",
     "text": [
      "Digite o valor de X: 8\n",
      "Digite o valor de Y: 10\n",
      "O valor de Y: 10 é maior que de X: 8\n"
     ]
    }
   ],
   "source": [
    "x = int(input(\"Digite o valor de X: \"))\n",
    "y = int(input(\"Digite o valor de Y: \"))\n",
    "\n",
    "if x > y:\n",
    "    print(\"O valor de X:\", x, \"é maior que de Y:\", y)\n",
    "elif x == y:  \n",
    "    print(\"Os valores de X e Y sao iguais!!\")\n",
    "else:\n",
    "    print(\"O valor de Y:\", y, \"é maior que de X:\", x)\n",
    "        \n",
    "    "
   ]
  },
  {
   "cell_type": "markdown",
   "metadata": {},
   "source": [
    "3. Faça um programa para a leitura de duas notas parciais de um aluno. O programa deve calcular a média alcançada por aluno e apresentar:\n",
    "    A mensagem \"Aprovado\", se a média alcançada for maior ou igual a sete;\n",
    "    A mensagem \"Reprovado\", se a média for menor do que sete;\n",
    "    A mensagem \"Aprovado com Distinção\", se a média for igual a dez."
   ]
  },
  {
   "cell_type": "code",
   "execution_count": 1,
   "metadata": {},
   "outputs": [
    {
     "name": "stdout",
     "output_type": "stream",
     "text": [
      "Digite a nota 1: 4.5\n",
      "Digite a nota 2: 7.9\n",
      "Reprovado, media:  6.2\n"
     ]
    }
   ],
   "source": [
    "nota1 = input(\"Digite a nota 1: \")\n",
    "n1 = float(nota1)\n",
    "nota2 = input(\"Digite a nota 2: \")\n",
    "n2 = float(nota2)\n",
    "\n",
    "m = (n1 + n2)/2\n",
    "media = float(m)\n",
    "\n",
    "if media < 7:\n",
    "    print(\"Reprovado, media: \", media)\n",
    "elif media == 10:\n",
    "    print(\"Aprovado com Distinção, media:\", media)\n",
    "else:\n",
    "    print(\"Aprovado, media: \", media)"
   ]
  },
  {
   "cell_type": "markdown",
   "metadata": {},
   "source": [
    "5. As Organizações Tabajara resolveram dar um aumento de salário aos seus colaboradores e lhe contrataram para desenvolver o programa que calculará os reajustes. Faça um programa que recebe o salário de um colaborador e o reajuste segundo o seguinte critério, baseado no salário atual:\n",
    "    salários até R$ 280,00 (incluindo) : aumento de 20%\n",
    "    salários entre R$ 280,00 e R$ 700,00 : aumento de 15%\n",
    "    salários entre R$ 700,00 e R$ 1500,00 : aumento de 10%\n",
    "    salários de R$ 1500,00 em diante : aumento de 5% Após o aumento ser realizado, informe na tela:\n",
    "    o salário antes do reajuste;\n",
    "    o percentual de aumento aplicado;\n",
    "    o valor do aumento;\n",
    "    o novo salário, após o aumento."
   ]
  },
  {
   "cell_type": "code",
   "execution_count": 1,
   "metadata": {},
   "outputs": [
    {
     "name": "stdout",
     "output_type": "stream",
     "text": [
      "Digite o seu salario: 1500\n",
      "O seu salario antes do reajuste: R$ 1500.0 \n",
      " % aplicado: 5% \n",
      " Valor de aumento: R$ 75.0 \n",
      " Reajustado: R$ 1575.0\n"
     ]
    }
   ],
   "source": [
    "salario = float(input(\"Digite o seu salario: \"))\n",
    "\n",
    "if salario < 280:\n",
    "    aumento = (salario * 0.2)\n",
    "    salario_n = salario + aumento\n",
    "    perc_app = \"20%\"\n",
    "elif salario >= 280 and salario < 700:\n",
    "    aumento = (salario * 0.15)\n",
    "    salario_n = salario + aumento\n",
    "    perc_app = \"15%\"\n",
    "elif salario >= 700 and salario < 1500:\n",
    "    aumento = (salario * 0.10)\n",
    "    salario_n = salario + aumento\n",
    "    perc_app = \"10%\"\n",
    "else:\n",
    "    aumento = (salario * 0.05)\n",
    "    salario_n = salario + aumento\n",
    "    perc_app = \"5%\"\n",
    "    \n",
    "print(\"O seu salario antes do reajuste: R$\", salario, \"\\n % aplicado:\", perc_app, \"\\n Valor de aumento: R$\", aumento,\"\\n Reajustado: R$\", salario_n)"
   ]
  },
  {
   "cell_type": "markdown",
   "metadata": {},
   "source": [
    "7. Faça um programa que lê as duas notas parciais obtidas por um aluno numa disciplina ao longo de um semestre, e calcule a sua média. A atribuição de conceitos obedece à tabela abaixo:\n",
    "Média de Aproveitamento Conceito\n",
    " Entre 9.0 e 10.0 A\n",
    " Entre 7.5 e 9.0 B\n",
    " Entre 6.0 e 7.5 C\n",
    " Entre 4.0 e 6.0 D\n",
    " Entre 4.0 e zero E\n",
    "O algoritmo deve mostrar na tela as notas, a média, o conceito\n",
    "correspondente e a mensagem “APROVADO” se o conceito for A, B\n",
    "ou C ou “REPROVADO” se o conceito for D ou E."
   ]
  },
  {
   "cell_type": "code",
   "execution_count": 5,
   "metadata": {},
   "outputs": [
    {
     "name": "stdout",
     "output_type": "stream",
     "text": [
      "Digite a nota 1: 6\n",
      "Digite anota 2: 1\n",
      "Suas notas foram: 6.0  e 1.0 \n",
      " sua media é: 3.5 \n",
      " Sua situacao é:  E - REPROVADO\n"
     ]
    }
   ],
   "source": [
    "nota1 = float(input(\"Digite a nota 1: \"))\n",
    "nota2 =  float(input(\"Digite anota 2: \"))\n",
    "\n",
    "media = (nota1 + nota2)/2\n",
    "\n",
    "if media >= 9 and media <= 10:\n",
    "    msg = \"A - APROVADO\"\n",
    "elif media >= 7.5 and media < 9:\n",
    "    msg = \"B - APROVADO\"\n",
    "elif media >= 6 and media < 7.5:\n",
    "    msg = \"C - APROVADO\"\n",
    "elif media >= 4 and media < 6:\n",
    "    msg = \"D - REPROVADO\"\n",
    "else:\n",
    "    msg = \"E - REPROVADO\"\n",
    "    \n",
    "print(\"Suas notas foram:\", nota1, \"e\", nota2, \"\\n sua media é:\", media, \"\\n Sua situacao é: \", msg)"
   ]
  },
  {
   "cell_type": "markdown",
   "metadata": {},
   "source": [
    "9. Faça um programa que calcule as raízes de uma equação do segundo grau, na forma ax2 + bx + c. O programa deverá pedir os valores de a, b e c e fazer as consistências, informando ao usuário nas seguintes situações:\n",
    "    Se o usuário informar o valor de A igual a zero, a equação não é do segundo grau e o programa não deve fazer pedir os demais valores, sendo encerrado;\n",
    "    Se o delta calculado for negativo, a equação não possui raizes reais. Informe ao usuário e encerre o programa; \n",
    "    Se o delta calculado for igual a zero a equação possui apenas uma raiz real; informe-a ao usuário;\n",
    "    Se o delta for positivo, a equação possui duas raiz reais; informeas ao usuário;"
   ]
  },
  {
   "cell_type": "code",
   "execution_count": 9,
   "metadata": {},
   "outputs": [
    {
     "name": "stdout",
     "output_type": "stream",
     "text": [
      "Digite o valor de A: 1\n",
      "Digite o valor de B: -4\n",
      "Digite o valor de C: -5\n",
      "Raizes da Equação: X1: 5.0 | X2: -1.0\n"
     ]
    }
   ],
   "source": [
    "import math\n",
    "\n",
    "a = int(input(\"Digite o valor de A: \"))\n",
    "if a == 0:\n",
    "    print(\"Valor de A = 0, a equação não é o segundo grau\")      \n",
    "else:\n",
    "    b = int(input(\"Digite o valor de B: \"))\n",
    "    c = int(input(\"Digite o valor de C: \"))\n",
    "    delta = (b**2) - (4 * a * c)\n",
    "    if delta < 0:\n",
    "        print(\"Delta é negativo, a equação não possui raiz real!\")\n",
    "    elif delta == 0:\n",
    "        x = (-b)/(2 * a)\n",
    "        print(\"Delta é igual a zero, a equação possui uma raiz real:\", x)\n",
    "    else:\n",
    "        raizDelta = math.sqrt(delta)\n",
    "        x1 = (-(b) + raizDelta)/(2 * a)\n",
    "        x2 = (-(b) - raizDelta)/(2 * a)\n",
    "        print(\"Raizes da Equação: X1:\", x1, \"| X2:\", x2)"
   ]
  },
  {
   "cell_type": "markdown",
   "metadata": {},
   "source": [
    "11. Faça um programa que faça 5 perguntas para uma pessoa sobre um crime. As perguntas são:\n",
    "    \"Telefonou para a vítima?\"\n",
    "    \"Esteve no local do crime?\"\n",
    "    \"Mora perto da vítima?\"\n",
    "    \"Devia para a vítima?\"\n",
    "    \"Já trabalhou com a vítima?\"\n",
    "O programa deve no fnal emitir uma classifcação sobre a participação da pessoa no crime. \n",
    "Se a pessoa responder positivamente a 2 questões ela deve ser classifcada como\n",
    "\"Suspeita\", entre 3 e 4 como \"Cúmplice\" e 5 como \"Assassino\". Caso contrário, ele será classifcado como \"Inocente\".\n"
   ]
  },
  {
   "cell_type": "code",
   "execution_count": 1,
   "metadata": {},
   "outputs": [
    {
     "name": "stdout",
     "output_type": "stream",
     "text": [
      "Telefonou para a vítima? sim\n",
      "Esteve no local do crime? sim\n",
      "Mora perto da vítima? não\n",
      "Devia para a vítima? sim\n",
      "Já trabalhou com a vítima? sim\n",
      "Cúmplice\n"
     ]
    }
   ],
   "source": [
    "i = 0\n",
    "\n",
    "msg1 = input(\"Telefonou para a vítima? \")\n",
    "if msg1 == \"sim\":\n",
    "    i += 1\n",
    "\n",
    "msg2 = input(\"Esteve no local do crime? \")\n",
    "if msg2 == \"sim\":\n",
    "    i += 1\n",
    "        \n",
    "msg3 = input(\"Mora perto da vítima? \")\n",
    "if msg3 == \"sim\":\n",
    "    i += 1\n",
    "        \n",
    "msg4 = input(\"Devia para a vítima? \")\n",
    "if msg4 == \"sim\":\n",
    "    i += 1\n",
    "\n",
    "msg5 = input(\"Já trabalhou com a vítima? \")\n",
    "if msg5 == \"sim\":\n",
    "    i += 1\n",
    "\n",
    "if i == 2:\n",
    "    print(\"Suspeita\")\n",
    "elif i >= 3 and i <= 4:\n",
    "    print(\"Cúmplice\")\n",
    "elif i > 4:\n",
    "    print(\"Assassino\")\n",
    "else:\n",
    "    print(\"Inocente\")\n"
   ]
  },
  {
   "cell_type": "markdown",
   "metadata": {},
   "source": [
    "13. Faça um programa que peça uma nota, entre zero e dez. Mostre uma mensagem caso o valor seja inválido e continue pedindo até que o usuário informe um valor válido."
   ]
  },
  {
   "cell_type": "code",
   "execution_count": null,
   "metadata": {},
   "outputs": [],
   "source": [
    "nota = int(input(\"Digite uma nota: \"))\n",
    "\n",
    "while nota > 10:\n",
    "    print(nota, \"é uma nota invalida!\")\n",
    "    nota = int(input(\"Digite uma nota: \"))\n",
    "    \n",
    "print(nota, \"é uma nota valida!\")"
   ]
  },
  {
   "cell_type": "markdown",
   "metadata": {},
   "source": [
    "15. Faça um programa que leia 5 números e informe o maior número."
   ]
  },
  {
   "cell_type": "code",
   "execution_count": 1,
   "metadata": {},
   "outputs": [
    {
     "name": "stdout",
     "output_type": "stream",
     "text": [
      "O maior número é: 7\n"
     ]
    }
   ],
   "source": [
    "myList = [5, 4, 7, 2, 1]\n",
    "\n",
    "maior = max(myList)\n",
    "    \n",
    "print(\"O maior número é:\", maior)"
   ]
  },
  {
   "cell_type": "markdown",
   "metadata": {},
   "source": [
    "17. Faça um programa que imprima na tela apenas os números ímpares entre 1 e 50."
   ]
  },
  {
   "cell_type": "code",
   "execution_count": 3,
   "metadata": {},
   "outputs": [
    {
     "name": "stdout",
     "output_type": "stream",
     "text": [
      "1\n",
      "3\n",
      "5\n",
      "7\n",
      "9\n",
      "11\n",
      "13\n",
      "15\n",
      "17\n",
      "19\n",
      "21\n",
      "23\n",
      "25\n",
      "27\n",
      "29\n",
      "31\n",
      "33\n",
      "35\n",
      "37\n",
      "39\n",
      "41\n",
      "43\n",
      "45\n",
      "47\n",
      "49\n"
     ]
    }
   ],
   "source": [
    "i = 1\n",
    "\n",
    "while i < 51:\n",
    "    if i%2 == 1:\n",
    "        print(i)\n",
    "    i = i + 1"
   ]
  },
  {
   "cell_type": "markdown",
   "metadata": {},
   "source": [
    "19. A série de Fibonacci é formada pela seqüência 1,1,2,3,5,8,13,21,34,55,... Faça um programa capaz de gerar a série até o n−ésimo termo."
   ]
  },
  {
   "cell_type": "code",
   "execution_count": 5,
   "metadata": {},
   "outputs": [
    {
     "name": "stdout",
     "output_type": "stream",
     "text": [
      "Digite quantas a sequencia deve acontecer: 8\n",
      "1\n",
      "1\n",
      "2\n",
      "3\n",
      "5\n",
      "8\n",
      "13\n",
      "21\n",
      "34\n"
     ]
    }
   ],
   "source": [
    "n = int(input(\"Digite quantas a sequencia deve acontecer: \"))\n",
    "\n",
    "f1 = 1\n",
    "f2 = 0\n",
    "i = 0\n",
    "aux = 0\n",
    "\n",
    "while i <= n:\n",
    "    print(f1)\n",
    "    aux = f1\n",
    "    f1 = f1 + f2\n",
    "    f2 = aux\n",
    "    i = i + 1"
   ]
  },
  {
   "cell_type": "markdown",
   "metadata": {},
   "source": [
    "21. O Sr. Manoel Joaquim possui uma grande loja de artigos de RS 1,99, com cerca de 10 caixas. Para agilizar o cálculo de quanto cada cliente deve pagar ele desenvolveu um tabela que contém o número de itens que o cliente comprou e ao lado o alor da conta. Desta forma a atendente do caixa precisa apenas contar quantos itens o cliente está levando e olhar na tabela de preços. Você foi contratado para desenvolver o programa que monta esta tabela de preços, que conterá os preços de 1 até 50 produtos, conforme o exemplo abaixo:\n",
    "    Lojas Quase Dois - Tabela de preços\n",
    "    1 - Rs 1.99\n",
    "    2 - Rs 3.98\n",
    "    ...\n",
    "    50 - Rs 99.50"
   ]
  },
  {
   "cell_type": "code",
   "execution_count": 10,
   "metadata": {},
   "outputs": [
    {
     "name": "stdout",
     "output_type": "stream",
     "text": [
      "Digite a quantidade:6\n",
      "1 - R$ 1.99\n",
      "2 - R$ 3.98\n",
      "3 - R$ 5.97\n",
      "4 - R$ 7.96\n",
      "5 - R$ 9.95\n",
      "6 - R$ 11.94\n"
     ]
    }
   ],
   "source": [
    "x = int(input(\"Digite a quantidade:\"))\n",
    "i = 1\n",
    "valor = 1.99\n",
    "\n",
    "if x <= 50:\n",
    "    while i <= x:\n",
    "        print(i ,\"- R$\", valor)\n",
    "        i = i + 1\n",
    "        valor = 1.99 * i\n",
    "else:\n",
    "    print(\"Valor incorreto!!!!\")"
   ]
  },
  {
   "cell_type": "markdown",
   "metadata": {},
   "source": [
    "23. O Sr. Manoel Joaquim expandiu seus negócios para além dos negócios de 1,99 e agora possui uma loja de conveniências. Faça um programa que implemente uma caixa registradora rudimentar. O programa deverá receber um número desconhecido de valores referentes aos preços das mercadorias. Um valor zero deve ser informado pelo operador para indicar o fnal da compra. O programa deve então mostrar o total da compra e perguntar o valor em dinheiro que o cliente forneceu, para então calcular e mostrar o valor do troco. Após esta operação, o programa deverá voltar ao ponto inicial, para registrar a próxima compra. A saída deve ser conforme o exemplo abaixo:\n",
    "    Lojas Tabajara\n",
    "    Produto 1: RS 2.20\n",
    "    Produto 2: RS 5.80\n",
    "    Produto 3: RS 0\n",
    "    Total: RS 9.00\n",
    "    Dinheiro: RS 20.00\n",
    "    Troco: RS 11.00\n"
   ]
  },
  {
   "cell_type": "code",
   "execution_count": 2,
   "metadata": {},
   "outputs": [
    {
     "name": "stdout",
     "output_type": "stream",
     "text": [
      "digite o preco do produto 1: 7\n",
      "digite o preco do produto: 4\n",
      "digite o preco do produto: 6\n",
      "digite o preco do produto: 1.70\n",
      "digite o preco do produto: 0\n",
      "Total a pagar R$ 11.7\n",
      "Dinheiro: R$ 12\n",
      "Troco: R$ 0.3000000000000007\n"
     ]
    }
   ],
   "source": [
    "valor = float(input(\"digite o preco do produto 1: \"))\n",
    "i = 1\n",
    "soma = 0\n",
    "\n",
    "if valor > 0:\n",
    "    while valor != 0:\n",
    "        i = i + 1\n",
    "        valor = float(input(\"digite o preco do produto: \"))\n",
    "        soma = soma + valor\n",
    "    \n",
    "print(\"Total a pagar R$\", soma)\n",
    "dinheiro = float(input(\"Dinheiro: R$ \"))\n",
    "troco = dinheiro - soma\n",
    "print(\"Troco: R$\", troco)\n",
    "        "
   ]
  },
  {
   "cell_type": "markdown",
   "metadata": {},
   "source": [
    "25. Faça um programa que receba o valor de uma dívida e mostre uma tabela com os seguintes dados: valor da dívida, valor dos juros, quantidade de parcelas e valor da parcela.\n",
    "    Os juros e a quantidade de parcelas seguem a tabela abaixo:\n",
    "    Quantidade de Parcelas % de Juros sobre o valor inicial da dívida\n",
    "    1 0\n",
    "    3 10\n",
    "    6 15\n",
    "    9 20\n",
    "    12 25\n",
    "    Exemplo de saída do programa:\n",
    "    Valor da Dívida Valor dos Juros Quantidade de Parcelas Valor da Parcela\n",
    "    RS 1.000,00 0 1 RS 1.000,00\n",
    "    RS 1.100,00 100 3 RS 366,00\n",
    "    RS 1.150,00 150 6 RS 191,67\n",
    "    \n"
   ]
  },
  {
   "cell_type": "code",
   "execution_count": 4,
   "metadata": {},
   "outputs": [
    {
     "name": "stdout",
     "output_type": "stream",
     "text": [
      "Digite o valor: 1000\n",
      "Valor da Dívida | Valor dos Juros | Quantidade de Parcelas | Valor da Parcela\n",
      "R$ 1000.0 | R$ 0.0    | 1   | R$ 1000.0\n",
      "R$ 1100.0 | R$ 100.0  | 3   | R$ 366.6666666666667\n",
      "R$ 1150.0 | R$ 150.0  | 6   | R$ 191.66666666666666\n",
      "R$ 1200.0 | R$ 200.0  | 9   | R$ 133.33333333333334\n",
      "R$ 1250.0 | R$ 250.0  | 12  | R$ 104.16666666666667\n"
     ]
    }
   ],
   "source": [
    "vlr = float(input(\"Digite o valor: \"))\n",
    "\n",
    "juros1 = (vlr * 0)\n",
    "vlrJuros1 = vlr + juros1\n",
    "vlrParc1 = vlrJuros1/1\n",
    "\n",
    "juros3 = (vlr * 0.1)\n",
    "vlrJuros3 = vlr + juros3\n",
    "vlrParc3 = vlrJuros3/3\n",
    "\n",
    "juros6 = (vlr * 0.15)\n",
    "vlrJuros6 = vlr + juros6\n",
    "vlrParc6 = vlrJuros6/6\n",
    "\n",
    "juros9 = (vlr * 0.2)\n",
    "vlrJuros9 = vlr + juros9\n",
    "vlrParc9 = vlrJuros9/9\n",
    "\n",
    "juros12 = (vlr * 0.25)\n",
    "vlrJuros12 = vlr + juros12\n",
    "vlrParc12 = vlrJuros12/12\n",
    "\n",
    "print(\"Valor da Dívida | Valor dos Juros | Quantidade de Parcelas | Valor da Parcela\")\n",
    "print(\"R$\", vlrJuros1, \"| R$\", juros1,\"   | 1   | R$\", vlrParc1)\n",
    "print(\"R$\", vlrJuros3, \"| R$\", juros3,\" | 3   | R$\", vlrParc3)\n",
    "print(\"R$\", vlrJuros6, \"| R$\", juros6,\" | 6   | R$\", vlrParc6)\n",
    "print(\"R$\", vlrJuros9, \"| R$\", juros9,\" | 9   | R$\", vlrParc9)\n",
    "print(\"R$\", vlrJuros12, \"| R$\", juros12,\" | 12  | R$\", vlrParc12)"
   ]
  },
  {
   "cell_type": "code",
   "execution_count": null,
   "metadata": {},
   "outputs": [],
   "source": []
  }
 ],
 "metadata": {
  "kernelspec": {
   "display_name": "Python 3",
   "language": "python",
   "name": "python3"
  },
  "language_info": {
   "codemirror_mode": {
    "name": "ipython",
    "version": 3
   },
   "file_extension": ".py",
   "mimetype": "text/x-python",
   "name": "python",
   "nbconvert_exporter": "python",
   "pygments_lexer": "ipython3",
   "version": "3.6.5"
  }
 },
 "nbformat": 4,
 "nbformat_minor": 2
}
